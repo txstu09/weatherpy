{
 "cells": [
  {
   "cell_type": "code",
   "execution_count": 41,
   "metadata": {
    "collapsed": true
   },
   "outputs": [],
   "source": [
    "import json\n",
    "import time\n",
    "import requests\n",
    "import pandas as pd\n",
    "import openweathermapy as owm\n",
    "from config import *"
   ]
  },
  {
   "cell_type": "code",
   "execution_count": 13,
   "metadata": {
    "collapsed": true
   },
   "outputs": [],
   "source": [
    "city_file = open('city.list.json', encoding='utf8')\n",
    "city_json = json.load(city_file)\n",
    "#print(json.dumps(city_json, indent=3))"
   ]
  },
  {
   "cell_type": "code",
   "execution_count": 20,
   "metadata": {},
   "outputs": [
    {
     "ename": "NameError",
     "evalue": "name 'upper' is not defined",
     "output_type": "error",
     "traceback": [
      "\u001b[1;31m---------------------------------------------------------------------------\u001b[0m",
      "\u001b[1;31mNameError\u001b[0m                                 Traceback (most recent call last)",
      "\u001b[1;32m<ipython-input-20-0687446b1192>\u001b[0m in \u001b[0;36m<module>\u001b[1;34m()\u001b[0m\n\u001b[1;32m----> 1\u001b[1;33m \u001b[0mcc\u001b[0m \u001b[1;33m=\u001b[0m \u001b[0mupper\u001b[0m\u001b[1;33m(\u001b[0m\u001b[1;34m'ua'\u001b[0m\u001b[1;33m)\u001b[0m\u001b[1;33m\u001b[0m\u001b[0m\n\u001b[0m\u001b[0;32m      2\u001b[0m \u001b[0mcc_json\u001b[0m \u001b[1;33m=\u001b[0m \u001b[0mcity_json\u001b[0m\u001b[1;33m[\u001b[0m\u001b[1;36m0\u001b[0m\u001b[1;33m]\u001b[0m\u001b[1;33m[\u001b[0m\u001b[1;34m'country'\u001b[0m\u001b[1;33m]\u001b[0m\u001b[1;33m\u001b[0m\u001b[0m\n",
      "\u001b[1;31mNameError\u001b[0m: name 'upper' is not defined"
     ]
    }
   ],
   "source": [
    "cc = 'ua'\n",
    "cc_json = city_json[0]['country']"
   ]
  },
  {
   "cell_type": "code",
   "execution_count": 21,
   "metadata": {},
   "outputs": [
    {
     "name": "stdout",
     "output_type": "stream",
     "text": [
      "Yup\n"
     ]
    }
   ],
   "source": [
    "if cc.upper() == cc_json:\n",
    "    print('Yup')\n",
    "else:\n",
    "    print('nope')"
   ]
  },
  {
   "cell_type": "code",
   "execution_count": 22,
   "metadata": {},
   "outputs": [
    {
     "name": "stdout",
     "output_type": "stream",
     "text": [
      "UA\n"
     ]
    }
   ],
   "source": [
    "print(cc.upper())"
   ]
  },
  {
   "cell_type": "code",
   "execution_count": 23,
   "metadata": {},
   "outputs": [
    {
     "name": "stdout",
     "output_type": "stream",
     "text": [
      "ua\n"
     ]
    }
   ],
   "source": [
    "print(cc)"
   ]
  },
  {
   "cell_type": "code",
   "execution_count": 31,
   "metadata": {},
   "outputs": [
    {
     "name": "stdout",
     "output_type": "stream",
     "text": [
      "0.033087730407714844\n"
     ]
    }
   ],
   "source": [
    "city = 'lodrino'\n",
    "start_time = time.time()\n",
    "\n",
    "for x in city_json:\n",
    "    if x['name'] == city:\n",
    "        print('Success')\n",
    "        \n",
    "print(time.time() - start_time)"
   ]
  },
  {
   "cell_type": "code",
   "execution_count": 41,
   "metadata": {
    "collapsed": true
   },
   "outputs": [],
   "source": [
    "name = 'nothing'\n",
    "country = 'na'\n",
    "city_coord = ''"
   ]
  },
  {
   "cell_type": "code",
   "execution_count": 42,
   "metadata": {},
   "outputs": [
    {
     "name": "stdout",
     "output_type": "stream",
     "text": [
      "\n"
     ]
    }
   ],
   "source": [
    "for x in city_json:\n",
    "    if x['name'] == name.title() and x['country'] == country.upper():\n",
    "        city_coord = (x['coord']['lat'], x['coord']['lon'])\n",
    "print(city_coord)"
   ]
  },
  {
   "cell_type": "code",
   "execution_count": 46,
   "metadata": {},
   "outputs": [
    {
     "name": "stdout",
     "output_type": "stream",
     "text": [
      "('a', 1)\n",
      "('b', 2)\n",
      "('c', 3)\n"
     ]
    }
   ],
   "source": [
    "dicter = {'a':1, 'b':2, 'c':3}\n",
    "for key in dicter.items():\n",
    "    print(key)"
   ]
  },
  {
   "cell_type": "code",
   "execution_count": 49,
   "metadata": {},
   "outputs": [
    {
     "name": "stdout",
     "output_type": "stream",
     "text": [
      "['a', 'b', 'c', 'd', 'e', 'f']\n"
     ]
    }
   ],
   "source": [
    "test = ['a', 'b', 'c', 'd', 'e', 'f']\n",
    "let = 'c'\n",
    "\n",
    "if let not in test:\n",
    "    test.append(let)\n",
    "print(test)"
   ]
  },
  {
   "cell_type": "code",
   "execution_count": 8,
   "metadata": {},
   "outputs": [
    {
     "data": {
      "text/plain": [
       "(54.77, 37, 1, 12.75)"
      ]
     },
     "execution_count": 8,
     "metadata": {},
     "output_type": "execute_result"
    }
   ],
   "source": [
    "settings = {'units': 'imperial', 'appid': api_key}\n",
    "values = ['main.temp','main.humidity','clouds.all','wind.speed']\n",
    "\n",
    "#current_weather = owm.get_current(5486795, **settings)\n",
    "#summary = (current_weather(*values))\n",
    "\n",
    "#summary"
   ]
  },
  {
   "cell_type": "code",
   "execution_count": 45,
   "metadata": {},
   "outputs": [
    {
     "name": "stdout",
     "output_type": "stream",
     "text": [
      "Beginning Data Retrieval\n",
      "-------------------------\n"
     ]
    }
   ],
   "source": [
    "print('Beginning Data Retrieval\\n-------------------------')"
   ]
  },
  {
   "cell_type": "code",
   "execution_count": 47,
   "metadata": {},
   "outputs": [
    {
     "name": "stdout",
     "output_type": "stream",
     "text": [
      "---------------------------------\n",
      "Beginning Data Retrieval\n",
      "---------------------------------\n",
      "Processing record   1 of 20 | Lerwick, GB\n",
      "Processing record   2 of 20 | Verona, US\n",
      "Processing record   3 of 20 | Alice Springs, AU\n",
      "Processing record   4 of 20 | Tufesti, RO\n",
      "Processing record   5 of 20 | Maymyo, MM\n",
      "Processing record   6 of 20 | Vokhma, RU\n",
      "Processing record   7 of 20 | Feltre, IT\n",
      "Processing record   8 of 20 | Gusau, NG\n",
      "Processing record   9 of 20 | La Spezia, IT\n",
      "Processing record  10 of 20 | Weinan, CN\n",
      "Processing record  11 of 20 | Louis Trichardt, ZA\n",
      "Processing record  12 of 20 | Sitka, US\n",
      "Processing record  13 of 20 | Omaruru, NA\n",
      "Processing record  14 of 20 | Fraga, ES\n",
      "Processing record  15 of 20 | Alpena, US\n",
      "Processing record  16 of 20 | Lieksa, FI\n",
      "Processing record  17 of 20 | Mlowo, TZ\n",
      "Processing record  18 of 20 | Parabel, RU\n",
      "Processing record  19 of 20 | Bandar, ID\n",
      "Processing record  20 of 20 | Spokane, US\n",
      "---------------------------------\n",
      "Data Retrieval Complete\n",
      "---------------------------------\n",
      "29.754059314727783\n"
     ]
    }
   ],
   "source": [
    "cities_test = ('2644605','5277142','2077895','664539','1309937','472887','3177120','2339937','3175081','1791636','981827','5557293','3354540','6358344','4984075','648090','153352','1495586','1215498','5811696')\n",
    "\n",
    "start_time = time.time()\n",
    "counter = 1\n",
    "data = []\n",
    "\n",
    "print('---------------------------------\\nBeginning Data Retrieval\\n---------------------------------')\n",
    "for city in cities_test:\n",
    "    current_weather = owm.get_current(int(city), **settings)\n",
    "    summary = (current_weather(*values))\n",
    "    print(f'Processing record {\"{0:>3s}\".format(str(counter))} of {len(cities_test)} | {current_weather[\"name\"]}, {current_weather[\"sys\"][\"country\"]}')\n",
    "    counter = counter + 1\n",
    "    data.append(summary)\n",
    "    time.sleep(1)\n",
    "    \n",
    "print('---------------------------------\\nData Retrieval Complete\\n---------------------------------')    \n",
    "print(time.time() - start_time)"
   ]
  },
  {
   "cell_type": "code",
   "execution_count": 43,
   "metadata": {},
   "outputs": [
    {
     "data": {
      "text/html": [
       "<div>\n",
       "<style>\n",
       "    .dataframe thead tr:only-child th {\n",
       "        text-align: right;\n",
       "    }\n",
       "\n",
       "    .dataframe thead th {\n",
       "        text-align: left;\n",
       "    }\n",
       "\n",
       "    .dataframe tbody tr th {\n",
       "        vertical-align: top;\n",
       "    }\n",
       "</style>\n",
       "<table border=\"1\" class=\"dataframe\">\n",
       "  <thead>\n",
       "    <tr style=\"text-align: right;\">\n",
       "      <th></th>\n",
       "      <th>0</th>\n",
       "      <th>1</th>\n",
       "      <th>2</th>\n",
       "      <th>3</th>\n",
       "      <th>Cities</th>\n",
       "    </tr>\n",
       "  </thead>\n",
       "  <tbody>\n",
       "    <tr>\n",
       "      <th>0</th>\n",
       "      <td>55.51</td>\n",
       "      <td>37</td>\n",
       "      <td>1</td>\n",
       "      <td>12.75</td>\n",
       "      <td>5486795</td>\n",
       "    </tr>\n",
       "    <tr>\n",
       "      <th>1</th>\n",
       "      <td>24.80</td>\n",
       "      <td>68</td>\n",
       "      <td>90</td>\n",
       "      <td>21.92</td>\n",
       "      <td>6944112</td>\n",
       "    </tr>\n",
       "    <tr>\n",
       "      <th>2</th>\n",
       "      <td>15.95</td>\n",
       "      <td>92</td>\n",
       "      <td>8</td>\n",
       "      <td>6.51</td>\n",
       "      <td>5961417</td>\n",
       "    </tr>\n",
       "    <tr>\n",
       "      <th>3</th>\n",
       "      <td>81.56</td>\n",
       "      <td>97</td>\n",
       "      <td>44</td>\n",
       "      <td>10.38</td>\n",
       "      <td>2136150</td>\n",
       "    </tr>\n",
       "    <tr>\n",
       "      <th>4</th>\n",
       "      <td>78.80</td>\n",
       "      <td>83</td>\n",
       "      <td>40</td>\n",
       "      <td>2.24</td>\n",
       "      <td>1309937</td>\n",
       "    </tr>\n",
       "    <tr>\n",
       "      <th>5</th>\n",
       "      <td>-8.26</td>\n",
       "      <td>59</td>\n",
       "      <td>36</td>\n",
       "      <td>2.48</td>\n",
       "      <td>2020311</td>\n",
       "    </tr>\n",
       "    <tr>\n",
       "      <th>6</th>\n",
       "      <td>36.95</td>\n",
       "      <td>100</td>\n",
       "      <td>0</td>\n",
       "      <td>3.36</td>\n",
       "      <td>3177120</td>\n",
       "    </tr>\n",
       "    <tr>\n",
       "      <th>7</th>\n",
       "      <td>49.34</td>\n",
       "      <td>85</td>\n",
       "      <td>44</td>\n",
       "      <td>2.77</td>\n",
       "      <td>359796</td>\n",
       "    </tr>\n",
       "    <tr>\n",
       "      <th>8</th>\n",
       "      <td>33.01</td>\n",
       "      <td>100</td>\n",
       "      <td>0</td>\n",
       "      <td>2.24</td>\n",
       "      <td>3175081</td>\n",
       "    </tr>\n",
       "    <tr>\n",
       "      <th>9</th>\n",
       "      <td>41.51</td>\n",
       "      <td>71</td>\n",
       "      <td>0</td>\n",
       "      <td>6.35</td>\n",
       "      <td>57289</td>\n",
       "    </tr>\n",
       "    <tr>\n",
       "      <th>10</th>\n",
       "      <td>50.56</td>\n",
       "      <td>84</td>\n",
       "      <td>0</td>\n",
       "      <td>3.38</td>\n",
       "      <td>981827</td>\n",
       "    </tr>\n",
       "    <tr>\n",
       "      <th>11</th>\n",
       "      <td>35.44</td>\n",
       "      <td>97</td>\n",
       "      <td>76</td>\n",
       "      <td>5.39</td>\n",
       "      <td>759320</td>\n",
       "    </tr>\n",
       "    <tr>\n",
       "      <th>12</th>\n",
       "      <td>52.81</td>\n",
       "      <td>43</td>\n",
       "      <td>0</td>\n",
       "      <td>2.82</td>\n",
       "      <td>3354540</td>\n",
       "    </tr>\n",
       "    <tr>\n",
       "      <th>13</th>\n",
       "      <td>28.73</td>\n",
       "      <td>78</td>\n",
       "      <td>0</td>\n",
       "      <td>3.49</td>\n",
       "      <td>6358344</td>\n",
       "    </tr>\n",
       "    <tr>\n",
       "      <th>14</th>\n",
       "      <td>36.81</td>\n",
       "      <td>93</td>\n",
       "      <td>90</td>\n",
       "      <td>18.37</td>\n",
       "      <td>4984075</td>\n",
       "    </tr>\n",
       "    <tr>\n",
       "      <th>15</th>\n",
       "      <td>32.29</td>\n",
       "      <td>79</td>\n",
       "      <td>12</td>\n",
       "      <td>9.86</td>\n",
       "      <td>648090</td>\n",
       "    </tr>\n",
       "    <tr>\n",
       "      <th>16</th>\n",
       "      <td>58.61</td>\n",
       "      <td>69</td>\n",
       "      <td>8</td>\n",
       "      <td>3.56</td>\n",
       "      <td>153352</td>\n",
       "    </tr>\n",
       "    <tr>\n",
       "      <th>17</th>\n",
       "      <td>68.74</td>\n",
       "      <td>78</td>\n",
       "      <td>0</td>\n",
       "      <td>8.63</td>\n",
       "      <td>2063036</td>\n",
       "    </tr>\n",
       "    <tr>\n",
       "      <th>18</th>\n",
       "      <td>77.33</td>\n",
       "      <td>94</td>\n",
       "      <td>44</td>\n",
       "      <td>2.33</td>\n",
       "      <td>1215498</td>\n",
       "    </tr>\n",
       "    <tr>\n",
       "      <th>19</th>\n",
       "      <td>36.32</td>\n",
       "      <td>60</td>\n",
       "      <td>1</td>\n",
       "      <td>4.70</td>\n",
       "      <td>5811696</td>\n",
       "    </tr>\n",
       "  </tbody>\n",
       "</table>\n",
       "</div>"
      ],
      "text/plain": [
       "        0    1   2      3   Cities\n",
       "0   55.51   37   1  12.75  5486795\n",
       "1   24.80   68  90  21.92  6944112\n",
       "2   15.95   92   8   6.51  5961417\n",
       "3   81.56   97  44  10.38  2136150\n",
       "4   78.80   83  40   2.24  1309937\n",
       "5   -8.26   59  36   2.48  2020311\n",
       "6   36.95  100   0   3.36  3177120\n",
       "7   49.34   85  44   2.77   359796\n",
       "8   33.01  100   0   2.24  3175081\n",
       "9   41.51   71   0   6.35    57289\n",
       "10  50.56   84   0   3.38   981827\n",
       "11  35.44   97  76   5.39   759320\n",
       "12  52.81   43   0   2.82  3354540\n",
       "13  28.73   78   0   3.49  6358344\n",
       "14  36.81   93  90  18.37  4984075\n",
       "15  32.29   79  12   9.86   648090\n",
       "16  58.61   69   8   3.56   153352\n",
       "17  68.74   78   0   8.63  2063036\n",
       "18  77.33   94  44   2.33  1215498\n",
       "19  36.32   60   1   4.70  5811696"
      ]
     },
     "execution_count": 43,
     "metadata": {},
     "output_type": "execute_result"
    }
   ],
   "source": [
    "data2 = pd.DataFrame(data)\n",
    "data2['Cities'] = cities_test\n",
    "data2"
   ]
  },
  {
   "cell_type": "code",
   "execution_count": 15,
   "metadata": {},
   "outputs": [
    {
     "name": "stdout",
     "output_type": "stream",
     "text": [
      "9.671760082244873\n"
     ]
    }
   ],
   "source": [
    "cities_test = ('5486795','6944112','5961417','2136150','1309937','2020311','3177120','359796','3175081','57289','981827','759320','3354540','6358344','4984075','648090','153352','2063036','1215498','5811696')\n",
    "\n",
    "url = \"http://api.openweathermap.org/data/2.5/weather?\"\n",
    "query = url + 'appid=' + api_key + '&id='\n",
    "start_time = time.time()\n",
    "data = []\n",
    "\n",
    "for city in cities_test:\n",
    "    response = requests.get(query + city).json()\n",
    "    data.append(response)\n",
    "print(time.time() - start_time)"
   ]
  },
  {
   "cell_type": "code",
   "execution_count": 17,
   "metadata": {},
   "outputs": [
    {
     "data": {
      "text/plain": [
       "20"
      ]
     },
     "execution_count": 17,
     "metadata": {},
     "output_type": "execute_result"
    }
   ],
   "source": [
    "len(data)"
   ]
  },
  {
   "cell_type": "code",
   "execution_count": 22,
   "metadata": {},
   "outputs": [
    {
     "name": "stdout",
     "output_type": "stream",
     "text": [
      "(55.49, 37, 1, 12.75)\n"
     ]
    }
   ],
   "source": [
    "one = '5486795'\n",
    "current_weather = owm.get_current(int(one), **settings)\n",
    "summary = (current_weather(*values))\n",
    "\n",
    "print(summary)"
   ]
  },
  {
   "cell_type": "code",
   "execution_count": 23,
   "metadata": {},
   "outputs": [
    {
     "data": {
      "text/plain": [
       "'Raton'"
      ]
     },
     "execution_count": 23,
     "metadata": {},
     "output_type": "execute_result"
    }
   ],
   "source": [
    "current_weather['name']"
   ]
  },
  {
   "cell_type": "code",
   "execution_count": 38,
   "metadata": {},
   "outputs": [
    {
     "name": "stdout",
     "output_type": "stream",
     "text": [
      "Processing record   9 of 92 | 9\n",
      "Processing record  10 of 92 | 10\n",
      "Processing record  11 of 92 | 11\n",
      "Processing record  12 of 92 | 12\n",
      "Processing record  13 of 92 | 13\n",
      "Processing record  14 of 92 | 14\n",
      "Processing record  15 of 92 | 15\n",
      "Processing record  16 of 92 | 16\n",
      "Processing record  17 of 92 | 17\n",
      "Processing record  18 of 92 | 18\n",
      "Processing record  19 of 92 | 19\n",
      "Processing record  20 of 92 | 20\n",
      "Processing record  21 of 92 | 21\n",
      "Processing record  22 of 92 | 22\n",
      "Processing record  23 of 92 | 23\n",
      "Processing record  24 of 92 | 24\n",
      "Processing record  25 of 92 | 25\n",
      "Processing record  26 of 92 | 26\n",
      "Processing record  27 of 92 | 27\n",
      "Processing record  28 of 92 | 28\n",
      "Processing record  29 of 92 | 29\n",
      "Processing record  30 of 92 | 30\n",
      "Processing record  31 of 92 | 31\n",
      "Processing record  32 of 92 | 32\n",
      "Processing record  33 of 92 | 33\n",
      "Processing record  34 of 92 | 34\n",
      "Processing record  35 of 92 | 35\n",
      "Processing record  36 of 92 | 36\n",
      "Processing record  37 of 92 | 37\n",
      "Processing record  38 of 92 | 38\n",
      "Processing record  39 of 92 | 39\n",
      "Processing record  40 of 92 | 40\n",
      "Processing record  41 of 92 | 41\n",
      "Processing record  42 of 92 | 42\n",
      "Processing record  43 of 92 | 43\n",
      "Processing record  44 of 92 | 44\n",
      "Processing record  45 of 92 | 45\n",
      "Processing record  46 of 92 | 46\n",
      "Processing record  47 of 92 | 47\n",
      "Processing record  48 of 92 | 48\n",
      "Processing record  49 of 92 | 49\n",
      "Processing record  50 of 92 | 50\n",
      "Processing record  51 of 92 | 51\n",
      "Processing record  52 of 92 | 52\n",
      "Processing record  53 of 92 | 53\n",
      "Processing record  54 of 92 | 54\n",
      "Processing record  55 of 92 | 55\n",
      "Processing record  56 of 92 | 56\n",
      "Processing record  57 of 92 | 57\n",
      "Processing record  58 of 92 | 58\n",
      "Processing record  59 of 92 | 59\n",
      "Processing record  60 of 92 | 60\n",
      "Processing record  61 of 92 | 61\n",
      "Processing record  62 of 92 | 62\n",
      "Processing record  63 of 92 | 63\n",
      "Processing record  64 of 92 | 64\n",
      "Processing record  65 of 92 | 65\n",
      "Processing record  66 of 92 | 66\n",
      "Processing record  67 of 92 | 67\n",
      "Processing record  68 of 92 | 68\n",
      "Processing record  69 of 92 | 69\n",
      "Processing record  70 of 92 | 70\n",
      "Processing record  71 of 92 | 71\n",
      "Processing record  72 of 92 | 72\n",
      "Processing record  73 of 92 | 73\n",
      "Processing record  74 of 92 | 74\n",
      "Processing record  75 of 92 | 75\n",
      "Processing record  76 of 92 | 76\n",
      "Processing record  77 of 92 | 77\n",
      "Processing record  78 of 92 | 78\n",
      "Processing record  79 of 92 | 79\n",
      "Processing record  80 of 92 | 80\n",
      "Processing record  81 of 92 | 81\n",
      "Processing record  82 of 92 | 82\n",
      "Processing record  83 of 92 | 83\n",
      "Processing record  84 of 92 | 84\n",
      "Processing record  85 of 92 | 85\n",
      "Processing record  86 of 92 | 86\n",
      "Processing record  87 of 92 | 87\n",
      "Processing record  88 of 92 | 88\n",
      "Processing record  89 of 92 | 89\n",
      "Processing record  90 of 92 | 90\n",
      "Processing record  91 of 92 | 91\n",
      "Processing record  92 of 92 | 92\n",
      "Processing record  93 of 92 | 93\n",
      "Processing record  94 of 92 | 94\n",
      "Processing record  95 of 92 | 95\n",
      "Processing record  96 of 92 | 96\n",
      "Processing record  97 of 92 | 97\n",
      "Processing record  98 of 92 | 98\n",
      "Processing record  99 of 92 | 99\n",
      "Processing record 100 of 92 | 100\n"
     ]
    }
   ],
   "source": [
    "cities_test = range(9, 101)\n",
    "counter = 9\n",
    "\n",
    "for city in cities_test:\n",
    "    print(f'Processing record {\"{0:>3s}\".format(str(counter))} of {len(cities_test)} | {city}')\n",
    "    counter = counter + 1"
   ]
  },
  {
   "cell_type": "code",
   "execution_count": null,
   "metadata": {
    "collapsed": true
   },
   "outputs": [],
   "source": []
  }
 ],
 "metadata": {
  "kernelspec": {
   "display_name": "Python 3",
   "language": "python",
   "name": "python3"
  },
  "language_info": {
   "codemirror_mode": {
    "name": "ipython",
    "version": 3
   },
   "file_extension": ".py",
   "mimetype": "text/x-python",
   "name": "python",
   "nbconvert_exporter": "python",
   "pygments_lexer": "ipython3",
   "version": "3.6.2"
  }
 },
 "nbformat": 4,
 "nbformat_minor": 2
}
