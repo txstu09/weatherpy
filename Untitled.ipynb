{
 "cells": [
  {
   "cell_type": "code",
   "execution_count": 41,
   "metadata": {
    "collapsed": true
   },
   "outputs": [],
   "source": [
    "import json\n",
    "import time\n",
    "import requests\n",
    "import pandas as pd\n",
    "import openweathermapy as owm\n",
    "from config import *"
   ]
  },
  {
   "cell_type": "code",
   "execution_count": 13,
   "metadata": {
    "collapsed": true
   },
   "outputs": [],
   "source": [
    "city_file = open('city.list.json', encoding='utf8')\n",
    "city_json = json.load(city_file)\n",
    "#print(json.dumps(city_json, indent=3))"
   ]
  },
  {
   "cell_type": "code",
   "execution_count": 20,
   "metadata": {},
   "outputs": [
    {
     "ename": "NameError",
     "evalue": "name 'upper' is not defined",
     "output_type": "error",
     "traceback": [
      "\u001b[1;31m---------------------------------------------------------------------------\u001b[0m",
      "\u001b[1;31mNameError\u001b[0m                                 Traceback (most recent call last)",
      "\u001b[1;32m<ipython-input-20-0687446b1192>\u001b[0m in \u001b[0;36m<module>\u001b[1;34m()\u001b[0m\n\u001b[1;32m----> 1\u001b[1;33m \u001b[0mcc\u001b[0m \u001b[1;33m=\u001b[0m \u001b[0mupper\u001b[0m\u001b[1;33m(\u001b[0m\u001b[1;34m'ua'\u001b[0m\u001b[1;33m)\u001b[0m\u001b[1;33m\u001b[0m\u001b[0m\n\u001b[0m\u001b[0;32m      2\u001b[0m \u001b[0mcc_json\u001b[0m \u001b[1;33m=\u001b[0m \u001b[0mcity_json\u001b[0m\u001b[1;33m[\u001b[0m\u001b[1;36m0\u001b[0m\u001b[1;33m]\u001b[0m\u001b[1;33m[\u001b[0m\u001b[1;34m'country'\u001b[0m\u001b[1;33m]\u001b[0m\u001b[1;33m\u001b[0m\u001b[0m\n",
      "\u001b[1;31mNameError\u001b[0m: name 'upper' is not defined"
     ]
    }
   ],
   "source": [
    "cc = 'ua'\n",
    "cc_json = city_json[0]['country']"
   ]
  },
  {
   "cell_type": "code",
   "execution_count": 21,
   "metadata": {},
   "outputs": [
    {
     "name": "stdout",
     "output_type": "stream",
     "text": [
      "Yup\n"
     ]
    }
   ],
   "source": [
    "if cc.upper() == cc_json:\n",
    "    print('Yup')\n",
    "else:\n",
    "    print('nope')"
   ]
  },
  {
   "cell_type": "code",
   "execution_count": 22,
   "metadata": {},
   "outputs": [
    {
     "name": "stdout",
     "output_type": "stream",
     "text": [
      "UA\n"
     ]
    }
   ],
   "source": [
    "print(cc.upper())"
   ]
  },
  {
   "cell_type": "code",
   "execution_count": 23,
   "metadata": {},
   "outputs": [
    {
     "name": "stdout",
     "output_type": "stream",
     "text": [
      "ua\n"
     ]
    }
   ],
   "source": [
    "print(cc)"
   ]
  },
  {
   "cell_type": "code",
   "execution_count": 31,
   "metadata": {},
   "outputs": [
    {
     "name": "stdout",
     "output_type": "stream",
     "text": [
      "0.033087730407714844\n"
     ]
    }
   ],
   "source": [
    "city = 'lodrino'\n",
    "start_time = time.time()\n",
    "\n",
    "for x in city_json:\n",
    "    if x['name'] == city:\n",
    "        print('Success')\n",
    "        \n",
    "print(time.time() - start_time)"
   ]
  },
  {
   "cell_type": "code",
   "execution_count": 41,
   "metadata": {
    "collapsed": true
   },
   "outputs": [],
   "source": [
    "name = 'nothing'\n",
    "country = 'na'\n",
    "city_coord = ''"
   ]
  },
  {
   "cell_type": "code",
   "execution_count": 42,
   "metadata": {},
   "outputs": [
    {
     "name": "stdout",
     "output_type": "stream",
     "text": [
      "\n"
     ]
    }
   ],
   "source": [
    "for x in city_json:\n",
    "    if x['name'] == name.title() and x['country'] == country.upper():\n",
    "        city_coord = (x['coord']['lat'], x['coord']['lon'])\n",
    "print(city_coord)"
   ]
  },
  {
   "cell_type": "code",
   "execution_count": null,
   "metadata": {
    "collapsed": true
   },
   "outputs": [],
   "source": [
    "#Check generated city list for duplicates\n",
    "duplicates = pd.Series(cities)\n",
    "duplicates[duplicates.duplicated()]"
   ]
  },
  {
   "cell_type": "code",
   "execution_count": 46,
   "metadata": {},
   "outputs": [
    {
     "name": "stdout",
     "output_type": "stream",
     "text": [
      "('a', 1)\n",
      "('b', 2)\n",
      "('c', 3)\n"
     ]
    }
   ],
   "source": [
    "dicter = {'a':1, 'b':2, 'c':3}\n",
    "for key in dicter.items():\n",
    "    print(key)"
   ]
  },
  {
   "cell_type": "code",
   "execution_count": 49,
   "metadata": {},
   "outputs": [
    {
     "name": "stdout",
     "output_type": "stream",
     "text": [
      "['a', 'b', 'c', 'd', 'e', 'f']\n"
     ]
    }
   ],
   "source": [
    "test = ['a', 'b', 'c', 'd', 'e', 'f']\n",
    "let = 'c'\n",
    "\n",
    "if let not in test:\n",
    "    test.append(let)\n",
    "print(test)"
   ]
  },
  {
   "cell_type": "code",
   "execution_count": 8,
   "metadata": {},
   "outputs": [
    {
     "data": {
      "text/plain": [
       "(54.77, 37, 1, 12.75)"
      ]
     },
     "execution_count": 8,
     "metadata": {},
     "output_type": "execute_result"
    }
   ],
   "source": [
    "settings = {'units': 'imperial', 'appid': api_key}\n",
    "values = ['main.temp','main.humidity','clouds.all','wind.speed']\n",
    "\n",
    "#current_weather = owm.get_current(5486795, **settings)\n",
    "#summary = (current_weather(*values))\n",
    "\n",
    "#summary"
   ]
  },
  {
   "cell_type": "code",
   "execution_count": 45,
   "metadata": {},
   "outputs": [
    {
     "name": "stdout",
     "output_type": "stream",
     "text": [
      "Beginning Data Retrieval\n",
      "-------------------------\n"
     ]
    }
   ],
   "source": [
    "print('Beginning Data Retrieval\\n-------------------------')"
   ]
  },
  {
   "cell_type": "code",
   "execution_count": 48,
   "metadata": {},
   "outputs": [
    {
     "name": "stdout",
     "output_type": "stream",
     "text": [
      "---------------------------------\n",
      "Beginning Data Retrieval\n",
      "---------------------------------\n",
      "Processing record   1 of 3 | Lerwick, GB\n",
      "Processing record   2 of 3 | Verona, US\n",
      "Processing record   3 of 3 | Alice Springs, AU\n",
      "---------------------------------\n",
      "Data Retrieval Complete\n",
      "---------------------------------\n",
      "4.251819610595703\n"
     ]
    }
   ],
   "source": [
    "cities_test = ('2644605','5277142','2077895')\n",
    "\n",
    "start_time = time.time()\n",
    "counter = 1\n",
    "data = []\n",
    "\n",
    "print('---------------------------------\\nBeginning Data Retrieval\\n---------------------------------')\n",
    "for city in cities_test:\n",
    "    current_weather = owm.get_current(int(city), **settings)\n",
    "    data.append(current_weather)\n",
    "    print(f'Processing record {\"{0:>3s}\".format(str(counter))} of {len(cities_test)} | {current_weather[\"name\"]}, {current_weather[\"sys\"][\"country\"]}')\n",
    "    counter = counter + 1\n",
    "    time.sleep(1)\n",
    "    \n",
    "print('---------------------------------\\nData Retrieval Complete\\n---------------------------------')    \n",
    "print(time.time() - start_time)"
   ]
  },
  {
   "cell_type": "code",
   "execution_count": 49,
   "metadata": {},
   "outputs": [
    {
     "data": {
      "text/plain": [
       "[{'base': 'stations',\n",
       "  'clouds': {'all': 80},\n",
       "  'cod': 200,\n",
       "  'coord': {'lat': 60.15, 'lon': -1.15},\n",
       "  'dt': 1510980600,\n",
       "  'id': 2644605,\n",
       "  'main': {'humidity': 75,\n",
       "   'pressure': 1000,\n",
       "   'temp': 42.8,\n",
       "   'temp_max': 42.8,\n",
       "   'temp_min': 42.8},\n",
       "  'name': 'Lerwick',\n",
       "  'sys': {'country': 'GB',\n",
       "   'id': 5126,\n",
       "   'message': 0.165,\n",
       "   'sunrise': 1510992709,\n",
       "   'sunset': 1511018830,\n",
       "   'type': 1},\n",
       "  'visibility': 10000,\n",
       "  'weather': [{'description': 'light rain',\n",
       "    'icon': '10n',\n",
       "    'id': 500,\n",
       "    'main': 'Rain'}],\n",
       "  'wind': {'deg': 290, 'gust': 19.5, 'speed': 27.51}},\n",
       " {'base': 'stations',\n",
       "  'clouds': {'all': 90},\n",
       "  'cod': 200,\n",
       "  'coord': {'lat': 42.99, 'lon': -89.53},\n",
       "  'dt': 1510981380,\n",
       "  'id': 5277142,\n",
       "  'main': {'humidity': 93,\n",
       "   'pressure': 1002,\n",
       "   'temp': 39.45,\n",
       "   'temp_max': 41,\n",
       "   'temp_min': 39.2},\n",
       "  'name': 'Verona',\n",
       "  'sys': {'country': 'US',\n",
       "   'id': 2997,\n",
       "   'message': 0.1692,\n",
       "   'sunrise': 1511009693,\n",
       "   'sunset': 1511044291,\n",
       "   'type': 1},\n",
       "  'visibility': 3219,\n",
       "  'weather': [{'description': 'mist',\n",
       "    'icon': '50n',\n",
       "    'id': 701,\n",
       "    'main': 'Mist'}],\n",
       "  'wind': {'deg': 88.0039, 'speed': 3.04}},\n",
       " {'base': 'stations',\n",
       "  'clouds': {'all': 0},\n",
       "  'cod': 200,\n",
       "  'coord': {'lat': -23.7, 'lon': 133.88},\n",
       "  'dt': 1510981200,\n",
       "  'id': 2077895,\n",
       "  'main': {'humidity': 16,\n",
       "   'pressure': 1010,\n",
       "   'temp': 96.8,\n",
       "   'temp_max': 96.8,\n",
       "   'temp_min': 96.8},\n",
       "  'name': 'Alice Springs',\n",
       "  'sys': {'country': 'AU',\n",
       "   'id': 8163,\n",
       "   'message': 0.0039,\n",
       "   'sunrise': 1510949426,\n",
       "   'sunset': 1510997345,\n",
       "   'type': 1},\n",
       "  'visibility': 10000,\n",
       "  'weather': [{'description': 'clear sky',\n",
       "    'icon': '01d',\n",
       "    'id': 800,\n",
       "    'main': 'Clear'}],\n",
       "  'wind': {'deg': 220, 'speed': 9.17}}]"
      ]
     },
     "execution_count": 49,
     "metadata": {},
     "output_type": "execute_result"
    }
   ],
   "source": [
    "data"
   ]
  },
  {
   "cell_type": "code",
   "execution_count": 15,
   "metadata": {},
   "outputs": [
    {
     "name": "stdout",
     "output_type": "stream",
     "text": [
      "9.671760082244873\n"
     ]
    }
   ],
   "source": [
    "cities_test = ('5486795','6944112','5961417','2136150','1309937','2020311','3177120','359796','3175081','57289','981827','759320','3354540','6358344','4984075','648090','153352','2063036','1215498','5811696')\n",
    "\n",
    "url = \"http://api.openweathermap.org/data/2.5/weather?\"\n",
    "query = url + 'appid=' + api_key + '&id='\n",
    "start_time = time.time()\n",
    "data = []\n",
    "\n",
    "for city in cities_test:\n",
    "    response = requests.get(query + city).json()\n",
    "    data.append(response)\n",
    "print(time.time() - start_time)"
   ]
  },
  {
   "cell_type": "code",
   "execution_count": 17,
   "metadata": {},
   "outputs": [
    {
     "data": {
      "text/plain": [
       "20"
      ]
     },
     "execution_count": 17,
     "metadata": {},
     "output_type": "execute_result"
    }
   ],
   "source": [
    "len(data)"
   ]
  },
  {
   "cell_type": "code",
   "execution_count": 22,
   "metadata": {},
   "outputs": [
    {
     "name": "stdout",
     "output_type": "stream",
     "text": [
      "(55.49, 37, 1, 12.75)\n"
     ]
    }
   ],
   "source": [
    "one = '5486795'\n",
    "current_weather = owm.get_current(int(one), **settings)\n",
    "summary = (current_weather(*values))\n",
    "\n",
    "print(summary)"
   ]
  },
  {
   "cell_type": "code",
   "execution_count": 23,
   "metadata": {},
   "outputs": [
    {
     "data": {
      "text/plain": [
       "'Raton'"
      ]
     },
     "execution_count": 23,
     "metadata": {},
     "output_type": "execute_result"
    }
   ],
   "source": [
    "current_weather['name']"
   ]
  },
  {
   "cell_type": "code",
   "execution_count": 38,
   "metadata": {},
   "outputs": [
    {
     "name": "stdout",
     "output_type": "stream",
     "text": [
      "Processing record   9 of 92 | 9\n",
      "Processing record  10 of 92 | 10\n",
      "Processing record  11 of 92 | 11\n",
      "Processing record  12 of 92 | 12\n",
      "Processing record  13 of 92 | 13\n",
      "Processing record  14 of 92 | 14\n",
      "Processing record  15 of 92 | 15\n",
      "Processing record  16 of 92 | 16\n",
      "Processing record  17 of 92 | 17\n",
      "Processing record  18 of 92 | 18\n",
      "Processing record  19 of 92 | 19\n",
      "Processing record  20 of 92 | 20\n",
      "Processing record  21 of 92 | 21\n",
      "Processing record  22 of 92 | 22\n",
      "Processing record  23 of 92 | 23\n",
      "Processing record  24 of 92 | 24\n",
      "Processing record  25 of 92 | 25\n",
      "Processing record  26 of 92 | 26\n",
      "Processing record  27 of 92 | 27\n",
      "Processing record  28 of 92 | 28\n",
      "Processing record  29 of 92 | 29\n",
      "Processing record  30 of 92 | 30\n",
      "Processing record  31 of 92 | 31\n",
      "Processing record  32 of 92 | 32\n",
      "Processing record  33 of 92 | 33\n",
      "Processing record  34 of 92 | 34\n",
      "Processing record  35 of 92 | 35\n",
      "Processing record  36 of 92 | 36\n",
      "Processing record  37 of 92 | 37\n",
      "Processing record  38 of 92 | 38\n",
      "Processing record  39 of 92 | 39\n",
      "Processing record  40 of 92 | 40\n",
      "Processing record  41 of 92 | 41\n",
      "Processing record  42 of 92 | 42\n",
      "Processing record  43 of 92 | 43\n",
      "Processing record  44 of 92 | 44\n",
      "Processing record  45 of 92 | 45\n",
      "Processing record  46 of 92 | 46\n",
      "Processing record  47 of 92 | 47\n",
      "Processing record  48 of 92 | 48\n",
      "Processing record  49 of 92 | 49\n",
      "Processing record  50 of 92 | 50\n",
      "Processing record  51 of 92 | 51\n",
      "Processing record  52 of 92 | 52\n",
      "Processing record  53 of 92 | 53\n",
      "Processing record  54 of 92 | 54\n",
      "Processing record  55 of 92 | 55\n",
      "Processing record  56 of 92 | 56\n",
      "Processing record  57 of 92 | 57\n",
      "Processing record  58 of 92 | 58\n",
      "Processing record  59 of 92 | 59\n",
      "Processing record  60 of 92 | 60\n",
      "Processing record  61 of 92 | 61\n",
      "Processing record  62 of 92 | 62\n",
      "Processing record  63 of 92 | 63\n",
      "Processing record  64 of 92 | 64\n",
      "Processing record  65 of 92 | 65\n",
      "Processing record  66 of 92 | 66\n",
      "Processing record  67 of 92 | 67\n",
      "Processing record  68 of 92 | 68\n",
      "Processing record  69 of 92 | 69\n",
      "Processing record  70 of 92 | 70\n",
      "Processing record  71 of 92 | 71\n",
      "Processing record  72 of 92 | 72\n",
      "Processing record  73 of 92 | 73\n",
      "Processing record  74 of 92 | 74\n",
      "Processing record  75 of 92 | 75\n",
      "Processing record  76 of 92 | 76\n",
      "Processing record  77 of 92 | 77\n",
      "Processing record  78 of 92 | 78\n",
      "Processing record  79 of 92 | 79\n",
      "Processing record  80 of 92 | 80\n",
      "Processing record  81 of 92 | 81\n",
      "Processing record  82 of 92 | 82\n",
      "Processing record  83 of 92 | 83\n",
      "Processing record  84 of 92 | 84\n",
      "Processing record  85 of 92 | 85\n",
      "Processing record  86 of 92 | 86\n",
      "Processing record  87 of 92 | 87\n",
      "Processing record  88 of 92 | 88\n",
      "Processing record  89 of 92 | 89\n",
      "Processing record  90 of 92 | 90\n",
      "Processing record  91 of 92 | 91\n",
      "Processing record  92 of 92 | 92\n",
      "Processing record  93 of 92 | 93\n",
      "Processing record  94 of 92 | 94\n",
      "Processing record  95 of 92 | 95\n",
      "Processing record  96 of 92 | 96\n",
      "Processing record  97 of 92 | 97\n",
      "Processing record  98 of 92 | 98\n",
      "Processing record  99 of 92 | 99\n",
      "Processing record 100 of 92 | 100\n"
     ]
    }
   ],
   "source": [
    "cities_test = range(9, 101)\n",
    "counter = 9\n",
    "\n",
    "for city in cities_test:\n",
    "    print(f'Processing record {\"{0:>3s}\".format(str(counter))} of {len(cities_test)} | {city}')\n",
    "    counter = counter + 1"
   ]
  },
  {
   "cell_type": "code",
   "execution_count": null,
   "metadata": {
    "collapsed": true
   },
   "outputs": [],
   "source": []
  }
 ],
 "metadata": {
  "kernelspec": {
   "display_name": "Python 3",
   "language": "python",
   "name": "python3"
  },
  "language_info": {
   "codemirror_mode": {
    "name": "ipython",
    "version": 3
   },
   "file_extension": ".py",
   "mimetype": "text/x-python",
   "name": "python",
   "nbconvert_exporter": "python",
   "pygments_lexer": "ipython3",
   "version": "3.6.2"
  }
 },
 "nbformat": 4,
 "nbformat_minor": 2
}
