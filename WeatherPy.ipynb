{
 "cells": [
  {
   "cell_type": "code",
   "execution_count": 18,
   "metadata": {
    "collapsed": true
   },
   "outputs": [],
   "source": [
    "import json\n",
    "import requests\n",
    "import csv\n",
    "import pandas as pd\n",
    "import openweathermapy.core as ow\n",
    "import matplotlib.pyplot as plt\n",
    "from config import *\n",
    "from citipy import citipy\n",
    "from geopy.distance import vincenty, great_circle\n",
    "import random\n",
    "import time\n",
    "\n",
    "owm_settings = {\"units\": \"imperial\", \"appid\": OWM_KEY}"
   ]
  },
  {
   "cell_type": "code",
   "execution_count": 5,
   "metadata": {},
   "outputs": [],
   "source": [
    "#Load OWM city list json file\n",
    "owm_city_json = json.load(open('city.list.json', encoding='utf8'))"
   ]
  },
  {
   "cell_type": "code",
   "execution_count": 19,
   "metadata": {},
   "outputs": [
    {
     "name": "stdout",
     "output_type": "stream",
     "text": [
      "218.51691436767578\n"
     ]
    }
   ],
   "source": [
    "#WORKING#\n",
    "\n",
    "city_count = 500\n",
    "counter = 0\n",
    "\n",
    "rangeLat = (-90, 90)\n",
    "rangeLong = (-180, 180)\n",
    "\n",
    "latitudes = []\n",
    "longitudes = []\n",
    "\n",
    "cities = []\n",
    "\n",
    "start_time = time.time()\n",
    "while counter != city_count:\n",
    "    rand_lat = round(random.uniform(*rangeLat), 5)\n",
    "    rand_long = round(random.uniform(*rangeLong), 5)\n",
    "    rand_coord = (rand_lat, rand_long)\n",
    "    city = citipy.nearest_city(rand_lat, rand_long)\n",
    "    name = city.city_name\n",
    "    country = city.country_code\n",
    "    \n",
    "    city_coord = ''\n",
    "    for x in owm_city_json:\n",
    "        if x['name'] == name.title() and x['country'] == country.upper():\n",
    "            city_coord = (x['coord']['lat'], x['coord']['lon'])\n",
    "            owm_id = x['id']\n",
    "            lat = x['coord']['lat']\n",
    "            long = x['coord']['lon']\n",
    "            \n",
    "    if city_coord != '' and owm_id not in cities:\n",
    "        distance = vincenty(rand_coord, city_coord).miles #using vincenty since it's more accurate than great_circle, errors when handling antipodes is not an issue here since the closest city to any given coord will not be an antipode\n",
    "        if distance <= 69: #at equator, each line of latitude is approximately 69 miles from the next line, same for longitude.  Eliminating random points that have no nearby city within one degree of lat/long\n",
    "            cities.append(owm_id)\n",
    "            counter = counter + 1\n",
    "\n",
    "            latitudes.append(lat)\n",
    "            longitudes.append(long)\n",
    "\n",
    "            \n",
    "print(time.time() - start_time)"
   ]
  },
  {
   "cell_type": "code",
   "execution_count": 21,
   "metadata": {},
   "outputs": [
    {
     "data": {
      "image/png": "[encoded data removed]",
      "text/plain": [
       "<matplotlib.figure.Figure at 0x1e56795ca90>"
      ]
     },
     "metadata": {},
     "output_type": "display_data"
    }
   ],
   "source": [
    "plt.scatter(longitudes, latitudes)\n",
    "plt.xlim(rangeLong)\n",
    "plt.ylim(rangeLat)\n",
    "plt.grid()\n",
    "plt.show()"
   ]
  },
  {
   "cell_type": "code",
   "execution_count": 26,
   "metadata": {},
   "outputs": [
    {
     "data": {
      "text/plain": [
       "Series([], dtype: int64)"
      ]
     },
     "execution_count": 26,
     "metadata": {},
     "output_type": "execute_result"
    }
   ],
   "source": [
    "test = pd.Series(cities)\n",
    "test[test.duplicated()]"
   ]
  },
  {
   "cell_type": "code",
   "execution_count": 34,
   "metadata": {
    "collapsed": true
   },
   "outputs": [],
   "source": [
    "#print(cities)\n",
    "#['iqaluit', 'worland', 'mlonggo', 'bayir', 'college', 'choix', 'the pas', 'tlacotalpan', 'glace bay', 'port jervis']\n",
    "\n",
    "#NOTE: Need to compare cities to the openweathermap city.list.json when pulling cities\n",
    "#Only return cities in the OWM list\n",
    "#For example, \"bayir\" returns no city from OWM\n",
    "\n",
    "#NOTE: May also need to figure out a way to handle cities like \"college\" which have multiple macthes in the OWM list\n",
    "\n",
    "#NOTE: Could also pull the city 'id' from OWM for use with API later (not necessary though)\n",
    "\n",
    "#NOTE: Once city list is generated, write to csv to save names and avoid having to call citipy/geopy when re-running\n",
    "\n",
    "#WARNING: Must solve for \"GeocoderTimedOut: Service timed out\"\n",
    "\n",
    "#Time w/ great_circle: 41, 53, 66 seconds"
   ]
  },
  {
   "cell_type": "code",
   "execution_count": null,
   "metadata": {
    "collapsed": true
   },
   "outputs": [],
   "source": []
  }
 ],
 "metadata": {
  "kernelspec": {
   "display_name": "Python 3",
   "language": "python",
   "name": "python3"
  },
  "language_info": {
   "codemirror_mode": {
    "name": "ipython",
    "version": 3
   },
   "file_extension": ".py",
   "mimetype": "text/x-python",
   "name": "python",
   "nbconvert_exporter": "python",
   "pygments_lexer": "ipython3",
   "version": "3.6.2"
  }
 },
 "nbformat": 4,
 "nbformat_minor": 2
}
