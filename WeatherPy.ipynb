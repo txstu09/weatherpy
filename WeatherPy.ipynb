{
 "cells": [
  {
   "cell_type": "code",
   "execution_count": 42,
   "metadata": {
    "collapsed": true
   },
   "outputs": [],
   "source": [
    "import json\n",
    "import requests\n",
    "import csv\n",
    "import pandas as pd\n",
    "import openweathermapy.core as ow\n",
    "import matplotlib.pyplot as plt\n",
    "from config import *\n",
    "from citipy import citipy\n",
    "from geopy.geocoders import Nominatim\n",
    "from geopy.distance import vincenty\n",
    "import random\n",
    "\n",
    "owm_settings = {\"units\": \"imperial\", \"appid\": OWM_KEY}"
   ]
  },
  {
   "cell_type": "code",
   "execution_count": 56,
   "metadata": {},
   "outputs": [],
   "source": [
    "#CSV contains ISO 3166-1 alpha-2 country codes\n",
    "#Necessary to convert country codes provided by citipy to country names for compatibility with geopy.\n",
    "#geopy does not recognize all two-letter country codes\n",
    "reader = csv.reader(open('countrycodes.csv', 'r'))\n",
    "country_code_dict = dict(reader)"
   ]
  },
  {
   "cell_type": "code",
   "execution_count": 73,
   "metadata": {},
   "outputs": [
    {
     "name": "stdout",
     "output_type": "stream",
     "text": [
      "['iqaluit', 'worland', 'mlonggo', 'bayir', 'college', 'choix', 'the pas', 'tlacotalpan', 'glace bay', 'port jervis']\n"
     ]
    }
   ],
   "source": [
    "city_count = 10\n",
    "counter = 0\n",
    "\n",
    "rangeLat = (-90, 90)\n",
    "rangeLong = (-180, 180)\n",
    "\n",
    "latitudes = []\n",
    "longitudes = []\n",
    "\n",
    "cities = []\n",
    "\n",
    "geolocator = Nominatim()\n",
    "\n",
    "while counter != city_count:\n",
    "    rand_lat = round(random.uniform(*rangeLat), 5)\n",
    "    rand_long = round(random.uniform(*rangeLong), 5)\n",
    "    rand_coord = (rand_lat, rand_long)\n",
    "    city = citipy.nearest_city(rand_lat, rand_long)\n",
    "    name = city.city_name\n",
    "    country = country_code_dict[city.country_code]\n",
    "    loc = geolocator.geocode(f'{name}, {country}')\n",
    "    try: #citipy does not use special characters in city names which results in an attribute error from geopy as loc = None\n",
    "        city_coord = (loc.latitude, loc.longitude)\n",
    "        distance = vincenty(rand_coord, city_coord).miles #using vincenty since it's more accurate than great_circle, errors when handlign antipodes is not an issue here since the closest city to any given coord will not be an antipode\n",
    "        if distance <= 69: #at equator, each line of latitude is approximately 69 miles from the next line, same for longitude.  Eliminating random points that have no nearby city within one degree of lat/long\n",
    "            cities.append(name)\n",
    "            counter = counter + 1\n",
    "    except AttributeError:        \n",
    "        continue\n",
    "print(cities)"
   ]
  },
  {
   "cell_type": "code",
   "execution_count": 75,
   "metadata": {},
   "outputs": [],
   "source": [
    "#print(cities)\n",
    "#['iqaluit', 'worland', 'mlonggo', 'bayir', 'college', 'choix', 'the pas', 'tlacotalpan', 'glace bay', 'port jervis']\n",
    "\n",
    "#NOTE: Need to compare cities to the openweathermap city.list.json when pulling cities\n",
    "#Only return cities in the OWM list\n",
    "#For example, \"bayir\" returns no city from OWM\n",
    "\n",
    "#NOTE: May also need to figure out a way to handle cities like \"college\" which have multiple macthes in the OWM list\n",
    "\n",
    "#NOTE: Could also pull the city 'id' from OWM for use with API later (not necessary though)"
   ]
  },
  {
   "cell_type": "code",
   "execution_count": 26,
   "metadata": {},
   "outputs": [
    {
     "name": "stdout",
     "output_type": "stream",
     "text": [
      "274.63112998109415\n"
     ]
    }
   ],
   "source": [
    "geolocator = Nominatim()\n",
    "\n",
    "name = 'bryan'\n",
    "country = 'us'\n",
    "coord = (36.002, -90)\n",
    "\n",
    "location = geolocator.geocode(f'{name}, {country}')\n",
    "city_coord = (location.latitude, location.longitude)\n",
    "\n",
    "dist = vincenty(coord, city_coord).miles\n",
    "\n",
    "print(dist)"
   ]
  },
  {
   "cell_type": "code",
   "execution_count": 22,
   "metadata": {},
   "outputs": [
    {
     "name": "stdout",
     "output_type": "stream",
     "text": [
      "0\n",
      "1\n",
      "2\n",
      "3\n",
      "4\n",
      "5\n",
      "6\n",
      "7\n",
      "8\n",
      "9\n"
     ]
    }
   ],
   "source": [
    "test = 10\n",
    "count = 0\n",
    "\n",
    "while count != test:\n",
    "    print(count)\n",
    "    count = count + 1"
   ]
  },
  {
   "cell_type": "code",
   "execution_count": null,
   "metadata": {
    "collapsed": true
   },
   "outputs": [],
   "source": []
  }
 ],
 "metadata": {
  "kernelspec": {
   "display_name": "Python 3",
   "language": "python",
   "name": "python3"
  },
  "language_info": {
   "codemirror_mode": {
    "name": "ipython",
    "version": 3
   },
   "file_extension": ".py",
   "mimetype": "text/x-python",
   "name": "python",
   "nbconvert_exporter": "python",
   "pygments_lexer": "ipython3",
   "version": "3.6.2"
  }
 },
 "nbformat": 4,
 "nbformat_minor": 2
}
